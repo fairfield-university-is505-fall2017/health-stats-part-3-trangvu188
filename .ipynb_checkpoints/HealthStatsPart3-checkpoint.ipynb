{
 "cells": [
  {
   "cell_type": "markdown",
   "metadata": {},
   "source": [
    "# Health Stats Part 2: Waist 2 Hip Ratios"
   ]
  },
  {
   "cell_type": "markdown",
   "metadata": {},
   "source": [
    "<!--- Write an explanation of the Waist To Hips Ratio statistic used by health professionals. Please include an explanation of what it is used for, exactly how it is calculated, and how to interpret the results. Note: Formmatting matters. Make this as professional as you can using Markdown.  --->\n",
    "EDIT THIS MARKDOWN CELL"
   ]
  },
  {
   "cell_type": "markdown",
   "metadata": {},
   "source": [
    "## Source Data "
   ]
  },
  {
   "cell_type": "markdown",
   "metadata": {},
   "source": [
    "<!--- Replace the text below with a Markdown bullet list that defines the columns of the CSV file. Be sure to indicate the data type for each column. --->\n",
    "EDIT THIS MARKDOWN CELL"
   ]
  },
  {
   "cell_type": "markdown",
   "metadata": {},
   "source": [
    "## Data Import"
   ]
  },
  {
   "cell_type": "code",
   "execution_count": 413,
   "metadata": {},
   "outputs": [
    {
     "data": {
      "text/plain": [
       "array([( 1, 30, 32, 'M'), ( 2, 32, 37, 'M'), ( 3, 30, 36, 'M'),\n",
       "       ( 4, 33, 39, 'M'), ( 5, 29, 33, 'M'), ( 6, 32, 38, 'M'),\n",
       "       ( 7, 33, 42, 'M'), ( 8, 30, 40, 'M'), ( 9, 30, 37, 'M'),\n",
       "       (10, 32, 39, 'M'), (11, 24, 35, 'F'), (12, 25, 37, 'F'),\n",
       "       (13, 24, 37, 'F'), (14, 22, 34, 'F'), (15, 26, 38, 'F'),\n",
       "       (16, 26, 37, 'F'), (17, 25, 38, 'F'), (18, 26, 37, 'F'),\n",
       "       (19, 28, 40, 'F'), (20, 23, 35, 'F')],\n",
       "      dtype=[('ID', '<i8'), ('Waist', '<i8'), ('Hip', '<i8'), ('Gender', '<U5')])"
      ]
     },
     "execution_count": 413,
     "metadata": {},
     "output_type": "execute_result"
    }
   ],
   "source": [
    "# Goal: Extract the data from the file\n",
    "\n",
    "import numpy as np\n",
    "\n",
    "# rows = np.genfromtxt(\"w2h_data.csv\",\n",
    "#                      names=True,\n",
    "#                      dtype=[('ID',int),('Waist',int),('Hip', int),('Gender','S3')],\n",
    "#                      delimiter=\",\")\n",
    "\n",
    "# rows = np.genfromtxt(\"w2h_data.csv\",\n",
    "#                      names=True,\n",
    "#                      dtype=(int,int,int,'S3'),\n",
    "#                      delimiter=\",\")\n",
    "\n",
    "new_rows = np.genfromtxt('w2h_data.csv',delimiter=',', \n",
    "                     names=True,\n",
    "                     dtype=[('ID',int),('Waist',int),('Hip', int),('Gender','U5')]\n",
    "                    )\n",
    "\n",
    "new_rows"
   ]
  },
  {
   "cell_type": "markdown",
   "metadata": {},
   "source": [
    "## Calculations"
   ]
  },
  {
   "cell_type": "code",
   "execution_count": 414,
   "metadata": {},
   "outputs": [
    {
     "data": {
      "text/plain": [
       "array([ 0.9375    ,  0.86486486,  0.83333333,  0.84615385,  0.87878788,\n",
       "        0.84210526,  0.78571429,  0.75      ,  0.81081081,  0.82051282,\n",
       "        0.68571429,  0.67567568,  0.64864865,  0.64705882,  0.68421053,\n",
       "        0.7027027 ,  0.65789474,  0.7027027 ,  0.7       ,  0.65714286])"
      ]
     },
     "execution_count": 414,
     "metadata": {},
     "output_type": "execute_result"
    }
   ],
   "source": [
    "# Goal: For each row of data calculate and store the w2h_ratio and shape.\n",
    "\n",
    "w2h_ratio = new_rows['Waist']/new_rows['Hip']\n",
    "w2h_ratio"
   ]
  },
  {
   "cell_type": "code",
   "execution_count": 415,
   "metadata": {},
   "outputs": [
    {
     "data": {
      "text/plain": [
       "array([( 1, 30, 32, 'M',  0.9375    , 'Apple'),\n",
       "       ( 2, 32, 37, 'M',  0.86486486, 'Pear'),\n",
       "       ( 3, 30, 36, 'M',  0.83333333, 'Pear'),\n",
       "       ( 4, 33, 39, 'M',  0.84615385, 'Pear'),\n",
       "       ( 5, 29, 33, 'M',  0.87878788, 'Pear'),\n",
       "       ( 6, 32, 38, 'M',  0.84210526, 'Pear'),\n",
       "       ( 7, 33, 42, 'M',  0.78571429, 'Pear'),\n",
       "       ( 8, 30, 40, 'M',  0.75      , 'Pear'),\n",
       "       ( 9, 30, 37, 'M',  0.81081081, 'Pear'),\n",
       "       (10, 32, 39, 'M',  0.82051282, 'Pear'),\n",
       "       (11, 24, 35, 'F',  0.68571429, 'Pear'),\n",
       "       (12, 25, 37, 'F',  0.67567568, 'Pear'),\n",
       "       (13, 24, 37, 'F',  0.64864865, 'Pear'),\n",
       "       (14, 22, 34, 'F',  0.64705882, 'Pear'),\n",
       "       (15, 26, 38, 'F',  0.68421053, 'Pear'),\n",
       "       (16, 26, 37, 'F',  0.7027027 , 'Pear'),\n",
       "       (17, 25, 38, 'F',  0.65789474, 'Pear'),\n",
       "       (18, 26, 37, 'F',  0.7027027 , 'Pear'),\n",
       "       (19, 28, 40, 'F',  0.7       , 'Pear'),\n",
       "       (20, 23, 35, 'F',  0.65714286, 'Pear')],\n",
       "      dtype=[('ID', '<i8'), ('Waist', '<i8'), ('Hip', '<i8'), ('Gender', '<U5'), ('W2H_Ratio', '<f8'), ('Shape', '<U5')])"
      ]
     },
     "execution_count": 415,
     "metadata": {},
     "output_type": "execute_result"
    }
   ],
   "source": [
    "from numpy.lib import recfunctions as rfn\n",
    "\n",
    "rows = rfn.append_fields(new_rows, names='W2H_Ratio', data=w2h_ratio, usemask=False)\n",
    "\n",
    "rows = rfn.append_fields(rows, names='Shape', data=[], dtypes=('U5'),usemask=False)\n",
    "\n",
    "rows\n",
    "\n",
    "o11=rows['Gender'] == 'M'\n",
    "o12=rows['W2H_Ratio'] > 0.9\n",
    "\n",
    "o21=rows['Gender'] == 'F'\n",
    "o22=rows['W2H_Ratio'] > 0.8\n",
    "\n",
    "o_final = np.bitwise_or(np.bitwise_and(o11, o12), np.bitwise_and(o21, o22))\n",
    "\n",
    "rows['Shape'][o_final == True] = 'Apple'\n",
    "rows['Shape'][o_final == False] = 'Pear'\n",
    "\n",
    "rows"
   ]
  },
  {
   "cell_type": "markdown",
   "metadata": {},
   "source": [
    "## Output"
   ]
  },
  {
   "cell_type": "code",
   "execution_count": 408,
   "metadata": {},
   "outputs": [
    {
     "data": {
      "text/html": [
       "<table><tr><th>ID</th><th>Waist</th><th>Hip</th><th>Gender</th><th>W2H_Ratio</th><th>Shape</th></tr><tr><td>1</td><td>30</td><td>32</td><td>M</td><td>0.9375</td><td>Apple</td></tr><tr><td>2</td><td>32</td><td>37</td><td>M</td><td>0.864864864865</td><td>Pear</td></tr><tr><td>3</td><td>30</td><td>36</td><td>M</td><td>0.833333333333</td><td>Pear</td></tr><tr><td>4</td><td>33</td><td>39</td><td>M</td><td>0.846153846154</td><td>Pear</td></tr><tr><td>5</td><td>29</td><td>33</td><td>M</td><td>0.878787878788</td><td>Pear</td></tr><tr><td>6</td><td>32</td><td>38</td><td>M</td><td>0.842105263158</td><td>Pear</td></tr><tr><td>7</td><td>33</td><td>42</td><td>M</td><td>0.785714285714</td><td>Pear</td></tr><tr><td>8</td><td>30</td><td>40</td><td>M</td><td>0.75</td><td>Pear</td></tr><tr><td>9</td><td>30</td><td>37</td><td>M</td><td>0.810810810811</td><td>Pear</td></tr><tr><td>10</td><td>32</td><td>39</td><td>M</td><td>0.820512820513</td><td>Pear</td></tr><tr><td>11</td><td>24</td><td>35</td><td>F</td><td>0.685714285714</td><td>Pear</td></tr><tr><td>12</td><td>25</td><td>37</td><td>F</td><td>0.675675675676</td><td>Pear</td></tr><tr><td>13</td><td>24</td><td>37</td><td>F</td><td>0.648648648649</td><td>Pear</td></tr><tr><td>14</td><td>22</td><td>34</td><td>F</td><td>0.647058823529</td><td>Pear</td></tr><tr><td>15</td><td>26</td><td>38</td><td>F</td><td>0.684210526316</td><td>Pear</td></tr><tr><td>16</td><td>26</td><td>37</td><td>F</td><td>0.702702702703</td><td>Pear</td></tr><tr><td>17</td><td>25</td><td>38</td><td>F</td><td>0.657894736842</td><td>Pear</td></tr><tr><td>18</td><td>26</td><td>37</td><td>F</td><td>0.702702702703</td><td>Pear</td></tr><tr><td>19</td><td>28</td><td>40</td><td>F</td><td>0.7</td><td>Pear</td></tr><tr><td>20</td><td>23</td><td>35</td><td>F</td><td>0.657142857143</td><td>Pear</td></tr></table>"
      ],
      "text/plain": [
       "<IPython.core.display.HTML object>"
      ]
     },
     "metadata": {},
     "output_type": "display_data"
    }
   ],
   "source": [
    "# Goal: pretty print the rows as an HTML table\n",
    "\n",
    "header = rows.dtype.names\n",
    "\n",
    "# Note: this works, but we can do this much better with pandas\n",
    "html_table = '<table><tr><th>'\n",
    "# html_table += \"</th><th>\".join(new_rows1[\"ID\",\"Waist\",\"Hip\",'Gender','W2H_Ratio','Shape'])\n",
    "html_table += \"</th><th>\".join(header)\n",
    "html_table += '</th></tr>'\n",
    "\n",
    "for r in rows:\n",
    "    html_table += \"<tr><td>\"\n",
    "    html_table += \"</td><td>\".join(str(col) for col in r)\n",
    "    html_table += \"</td></tr>\"\n",
    "html_table += \"</table>\"\n",
    "\n",
    "html_table\n",
    "\n",
    "from IPython.display import HTML, display\n",
    "display(HTML(html_table))"
   ]
  },
  {
   "cell_type": "code",
   "execution_count": 409,
   "metadata": {
    "collapsed": true
   },
   "outputs": [],
   "source": [
    "# Writing the data to an HTML table to a file called \"StatsResults.html\"\n",
    "f = open(\"StatsResults.html\", \"w\")\n",
    "f.write(html_table)\n",
    "f.close()"
   ]
  },
  {
   "cell_type": "code",
   "execution_count": 387,
   "metadata": {},
   "outputs": [],
   "source": [
    "header_row = str(new_rows1.dtype.names)\n",
    "# header_row='ID, Waist, Hip, Gender, W2H_Ratio, Shape',\n",
    "\n",
    "# Writing the data to a CSV file called StatsResults.csv\n",
    "np.savetxt(\"StatsResults.csv\", rows, \n",
    "           header='ID, Waist, Hip, Gender, W2H_Ratio, Shape',\n",
    "           fmt=['%i','%i','%i','%s','%f','%s'], \n",
    "           delimiter=\",\")\n",
    "\n"
   ]
  },
  {
   "cell_type": "code",
   "execution_count": null,
   "metadata": {
    "collapsed": true
   },
   "outputs": [],
   "source": []
  }
 ],
 "metadata": {
  "kernelspec": {
   "display_name": "Python 3",
   "language": "python",
   "name": "python3"
  },
  "language_info": {
   "codemirror_mode": {
    "name": "ipython",
    "version": 3
   },
   "file_extension": ".py",
   "mimetype": "text/x-python",
   "name": "python",
   "nbconvert_exporter": "python",
   "pygments_lexer": "ipython3",
   "version": "3.6.1"
  }
 },
 "nbformat": 4,
 "nbformat_minor": 2
}
