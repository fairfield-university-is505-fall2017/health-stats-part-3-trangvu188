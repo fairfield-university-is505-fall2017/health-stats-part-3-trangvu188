{
 "cells": [
  {
   "cell_type": "markdown",
   "metadata": {},
   "source": [
    "# Health Stats Part 2: Waist 2 Hip Ratios"
   ]
  },
  {
   "cell_type": "markdown",
   "metadata": {},
   "source": [
    "<!--- Write an explanation of the Waist To Hips Ratio statistic used by health professionals. Please include an explanation of what it is used for, exactly how it is calculated, and how to interpret the results. Note: Formmatting matters. Make this as professional as you can using Markdown.  --->\n",
    "EDIT THIS MARKDOWN CELL"
   ]
  },
  {
   "cell_type": "markdown",
   "metadata": {},
   "source": [
    "## Source Data "
   ]
  },
  {
   "cell_type": "markdown",
   "metadata": {},
   "source": [
    "<!--- Replace the text below with a Markdown bullet list that defines the columns of the CSV file. Be sure to indicate the data type for each column. --->\n",
    "EDIT THIS MARKDOWN CELL"
   ]
  },
  {
   "cell_type": "markdown",
   "metadata": {},
   "source": [
    "## Data Import"
   ]
  },
  {
   "cell_type": "code",
   "execution_count": 3,
   "metadata": {},
   "outputs": [
    {
     "data": {
      "text/plain": [
       "array([( 1,  30.,  32., 'M'), ( 2,  32.,  37., 'M'), ( 3,  30.,  36., 'M'),\n",
       "       ( 4,  33.,  39., 'M'), ( 5,  29.,  33., 'M'), ( 6,  32.,  38., 'M'),\n",
       "       ( 7,  33.,  42., 'M'), ( 8,  30.,  40., 'M'), ( 9,  30.,  37., 'M'),\n",
       "       (10,  32.,  39., 'M'), (11,  24.,  35., 'F'), (12,  25.,  37., 'F'),\n",
       "       (13,  24.,  37., 'F'), (14,  22.,  34., 'F'), (15,  26.,  38., 'F'),\n",
       "       (16,  26.,  37., 'F'), (17,  25.,  38., 'F'), (18,  26.,  37., 'F'),\n",
       "       (19,  28.,  40., 'F'), (20,  23.,  35., 'F')],\n",
       "      dtype=[('ID', '<i8'), ('Waist', '<f8'), ('Hip', '<f8'), ('Gender', '<U5')])"
      ]
     },
     "execution_count": 3,
     "metadata": {},
     "output_type": "execute_result"
    }
   ],
   "source": [
    "# Goal: Extract the data from the file\n",
    "\n",
    "import numpy as np\n",
    "\n",
    "\n",
    "rows = np.genfromtxt('w2h_data.csv',delimiter=',', \n",
    "                     names=True,\n",
    "                     dtype=[('ID',int),('Waist',float),('Hip',float),('Gender','U5')]\n",
    "                    )\n",
    "\n",
    "rows"
   ]
  },
  {
   "cell_type": "markdown",
   "metadata": {},
   "source": [
    "## Calculations"
   ]
  },
  {
   "cell_type": "code",
   "execution_count": 14,
   "metadata": {},
   "outputs": [
    {
     "name": "stdout",
     "output_type": "stream",
     "text": [
      "[[ True False False False False False False False False False False False\n",
      "  False False False False False False False False]]\n",
      "[[False False False False False False False False False False False False\n",
      "  False False False False False False False False]]\n",
      "[[ True False False False False False False False False False False False\n",
      "  False False False False False False False False]]\n",
      "[( 1,  30.,  32., 'M',  0.9375    , 'apple')\n",
      " ( 2,  32.,  37., 'M',  0.86486486, 'pear')\n",
      " ( 3,  30.,  36., 'M',  0.83333333, 'pear')\n",
      " ( 4,  33.,  39., 'M',  0.84615385, 'pear')\n",
      " ( 5,  29.,  33., 'M',  0.87878788, 'pear')\n",
      " ( 6,  32.,  38., 'M',  0.84210526, 'pear')\n",
      " ( 7,  33.,  42., 'M',  0.78571429, 'pear')\n",
      " ( 8,  30.,  40., 'M',  0.75      , 'pear')\n",
      " ( 9,  30.,  37., 'M',  0.81081081, 'pear')\n",
      " (10,  32.,  39., 'M',  0.82051282, 'pear')\n",
      " (11,  24.,  35., 'F',  0.68571429, 'pear')\n",
      " (12,  25.,  37., 'F',  0.67567568, 'pear')\n",
      " (13,  24.,  37., 'F',  0.64864865, 'pear')\n",
      " (14,  22.,  34., 'F',  0.64705882, 'pear')\n",
      " (15,  26.,  38., 'F',  0.68421053, 'pear')\n",
      " (16,  26.,  37., 'F',  0.7027027 , 'pear')\n",
      " (17,  25.,  38., 'F',  0.65789474, 'pear')\n",
      " (18,  26.,  37., 'F',  0.7027027 , 'pear')\n",
      " (19,  28.,  40., 'F',  0.7       , 'pear')\n",
      " (20,  23.,  35., 'F',  0.65714286, 'pear')]\n"
     ]
    }
   ],
   "source": [
    "# Goal: For each row of data calculate and store the w2h_ratio and shape.\n",
    "# calculate the w2h ratio\n",
    "w2h_ratio = rows['Waist']/rows['Hip']\n",
    "males = [rows['Gender'] == 'M']\n",
    "\n",
    "males_apple = np.logical_and((w2h_ratio>0.9),males)\n",
    "print(males_apple)\n",
    "# females with w2h_ratio > 0.8 are a female apple!\n",
    "females_apple = np.logical_and((w2h_ratio>0.8),np.logical_not(males))\n",
    "print(females_apple)\n",
    "# combines the males_apple and female_apples\n",
    "apples = np.logical_or(males_apple,females_apple)\n",
    "print(apples)\n",
    "#work like an if then else statement\n",
    "shapes = np.where(apples,'apple',\"pear\")\n",
    "\n",
    "#now we make a new results array:\n",
    "#add the two new columns to the dtype descriptor\n",
    "\n",
    "dt = np.dtype(rows.dtype.descr + [(\"w2h_ratio\",float),('shape',\"U5\")])\n",
    "\n",
    "# create a new results array with the same number of rows and the new dtype\n",
    "results = np.zeros(rows.shape,dtype=dt)\n",
    "\n",
    "#copy over the rows data\n",
    "for c in rows.dtype.names:\n",
    "    results[c] = rows[c]\n",
    "#add the two new columns\n",
    "results['w2h_ratio']=w2h_ratio\n",
    "results['shape']=shapes\n",
    "\n",
    "\n",
    "print(results)"
   ]
  },
  {
   "cell_type": "code",
   "execution_count": null,
   "metadata": {},
   "outputs": [],
   "source": []
  },
  {
   "cell_type": "markdown",
   "metadata": {},
   "source": [
    "## Output"
   ]
  },
  {
   "cell_type": "code",
   "execution_count": 18,
   "metadata": {},
   "outputs": [
    {
     "data": {
      "text/html": [
       "<table><tr><th>ID</th><th>Waist</th><th>Hip</th><th>Gender</th><th>w2h_ratio</th><th>shape</th></tr><tr><td>1</td><td>30.0</td><td>32.0</td><td>M</td><td>0.9375</td><td>apple</td></tr><tr><td>2</td><td>32.0</td><td>37.0</td><td>M</td><td>0.864864864865</td><td>pear</td></tr><tr><td>3</td><td>30.0</td><td>36.0</td><td>M</td><td>0.833333333333</td><td>pear</td></tr><tr><td>4</td><td>33.0</td><td>39.0</td><td>M</td><td>0.846153846154</td><td>pear</td></tr><tr><td>5</td><td>29.0</td><td>33.0</td><td>M</td><td>0.878787878788</td><td>pear</td></tr><tr><td>6</td><td>32.0</td><td>38.0</td><td>M</td><td>0.842105263158</td><td>pear</td></tr><tr><td>7</td><td>33.0</td><td>42.0</td><td>M</td><td>0.785714285714</td><td>pear</td></tr><tr><td>8</td><td>30.0</td><td>40.0</td><td>M</td><td>0.75</td><td>pear</td></tr><tr><td>9</td><td>30.0</td><td>37.0</td><td>M</td><td>0.810810810811</td><td>pear</td></tr><tr><td>10</td><td>32.0</td><td>39.0</td><td>M</td><td>0.820512820513</td><td>pear</td></tr><tr><td>11</td><td>24.0</td><td>35.0</td><td>F</td><td>0.685714285714</td><td>pear</td></tr><tr><td>12</td><td>25.0</td><td>37.0</td><td>F</td><td>0.675675675676</td><td>pear</td></tr><tr><td>13</td><td>24.0</td><td>37.0</td><td>F</td><td>0.648648648649</td><td>pear</td></tr><tr><td>14</td><td>22.0</td><td>34.0</td><td>F</td><td>0.647058823529</td><td>pear</td></tr><tr><td>15</td><td>26.0</td><td>38.0</td><td>F</td><td>0.684210526316</td><td>pear</td></tr><tr><td>16</td><td>26.0</td><td>37.0</td><td>F</td><td>0.702702702703</td><td>pear</td></tr><tr><td>17</td><td>25.0</td><td>38.0</td><td>F</td><td>0.657894736842</td><td>pear</td></tr><tr><td>18</td><td>26.0</td><td>37.0</td><td>F</td><td>0.702702702703</td><td>pear</td></tr><tr><td>19</td><td>28.0</td><td>40.0</td><td>F</td><td>0.7</td><td>pear</td></tr><tr><td>20</td><td>23.0</td><td>35.0</td><td>F</td><td>0.657142857143</td><td>pear</td></tr></table>"
      ],
      "text/plain": [
       "<IPython.core.display.HTML object>"
      ]
     },
     "metadata": {},
     "output_type": "display_data"
    }
   ],
   "source": [
    "# Goal: pretty print the rows as an HTML table\n",
    "\n",
    "\n",
    "\n",
    "# Note: this works, but we can do this much better with pandas\n",
    "html_table = '<table><tr><th>'\n",
    "# html_table += \"</th><th>\".join(results.dtype.names)\n",
    "html_table += \"</th><th>\".join(results.dtype.names)\n",
    "html_table += '</th></tr>'\n",
    "\n",
    "for r in results:\n",
    "    html_table += \"<tr><td>\"\n",
    "    html_table += \"</td><td>\".join(str(col) for col in r)\n",
    "    html_table += \"</td></tr>\"\n",
    "html_table += \"</table>\"\n",
    "\n",
    "html_table\n",
    "\n",
    "from IPython.display import HTML, display\n",
    "display(HTML(html_table))"
   ]
  },
  {
   "cell_type": "code",
   "execution_count": 19,
   "metadata": {
    "collapsed": true
   },
   "outputs": [],
   "source": [
    "# Writing the data to an HTML table to a file called \"StatsResults.html\"\n",
    "f = open(\"StatsResults.html\", \"w\")\n",
    "f.write(html_table)\n",
    "f.close()"
   ]
  },
  {
   "cell_type": "code",
   "execution_count": 20,
   "metadata": {
    "collapsed": true
   },
   "outputs": [],
   "source": [
    "\n",
    "\n",
    "# Writing the data to a CSV file called StatsResults.csv\n",
    "np.savetxt(\"StatsResults.csv\", results, \n",
    "           header='ID, Waist, Hip, Gender, W2H_Ratio, Shape',\n",
    "           fmt=['%i','%i','%i','%s','%f','%s'], \n",
    "           delimiter=\",\")\n",
    "\n"
   ]
  },
  {
   "cell_type": "code",
   "execution_count": null,
   "metadata": {
    "collapsed": true
   },
   "outputs": [],
   "source": []
  }
 ],
 "metadata": {
  "kernelspec": {
   "display_name": "Python 3",
   "language": "python",
   "name": "python3"
  },
  "language_info": {
   "codemirror_mode": {
    "name": "ipython",
    "version": 3
   },
   "file_extension": ".py",
   "mimetype": "text/x-python",
   "name": "python",
   "nbconvert_exporter": "python",
   "pygments_lexer": "ipython3",
   "version": "3.6.1"
  }
 },
 "nbformat": 4,
 "nbformat_minor": 2
}
